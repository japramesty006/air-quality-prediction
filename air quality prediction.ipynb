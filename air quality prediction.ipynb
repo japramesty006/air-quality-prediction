{
 "cells": [
  {
   "cell_type": "code",
   "execution_count": 1,
   "metadata": {},
   "outputs": [],
   "source": [
    "import pandas as pd\n",
    "import numpy as np\n",
    "import matplotlib.pyplot as plt\n",
    "import tensorflow as tf\n",
    "from sklearn.preprocessing import MinMaxScaler"
   ]
  },
  {
   "cell_type": "code",
   "execution_count": 2,
   "metadata": {},
   "outputs": [
    {
     "data": {
      "text/html": [
       "<div>\n",
       "<style scoped>\n",
       "    .dataframe tbody tr th:only-of-type {\n",
       "        vertical-align: middle;\n",
       "    }\n",
       "\n",
       "    .dataframe tbody tr th {\n",
       "        vertical-align: top;\n",
       "    }\n",
       "\n",
       "    .dataframe thead th {\n",
       "        text-align: right;\n",
       "    }\n",
       "</style>\n",
       "<table border=\"1\" class=\"dataframe\">\n",
       "  <thead>\n",
       "    <tr style=\"text-align: right;\">\n",
       "      <th></th>\n",
       "      <th>pm10</th>\n",
       "      <th>so2</th>\n",
       "      <th>co</th>\n",
       "      <th>o3</th>\n",
       "      <th>no2</th>\n",
       "      <th>max</th>\n",
       "      <th>critical</th>\n",
       "      <th>categori</th>\n",
       "      <th>lokasi_spku</th>\n",
       "    </tr>\n",
       "    <tr>\n",
       "      <th>tanggal</th>\n",
       "      <th></th>\n",
       "      <th></th>\n",
       "      <th></th>\n",
       "      <th></th>\n",
       "      <th></th>\n",
       "      <th></th>\n",
       "      <th></th>\n",
       "      <th></th>\n",
       "      <th></th>\n",
       "    </tr>\n",
       "  </thead>\n",
       "  <tbody>\n",
       "    <tr>\n",
       "      <th>2018-01-01</th>\n",
       "      <td>76.0</td>\n",
       "      <td>31.0</td>\n",
       "      <td>38.0</td>\n",
       "      <td>35.0</td>\n",
       "      <td>9.0</td>\n",
       "      <td>76.0</td>\n",
       "      <td>PM10</td>\n",
       "      <td>SEDANG</td>\n",
       "      <td>DKI4</td>\n",
       "    </tr>\n",
       "    <tr>\n",
       "      <th>2018-01-02</th>\n",
       "      <td>23.0</td>\n",
       "      <td>31.0</td>\n",
       "      <td>24.0</td>\n",
       "      <td>39.0</td>\n",
       "      <td>14.0</td>\n",
       "      <td>39.0</td>\n",
       "      <td>O3</td>\n",
       "      <td>BAIK</td>\n",
       "      <td>DKI3</td>\n",
       "    </tr>\n",
       "    <tr>\n",
       "      <th>2018-01-03</th>\n",
       "      <td>53.0</td>\n",
       "      <td>35.0</td>\n",
       "      <td>35.0</td>\n",
       "      <td>101.0</td>\n",
       "      <td>23.0</td>\n",
       "      <td>101.0</td>\n",
       "      <td>O3</td>\n",
       "      <td>TIDAK SEHAT</td>\n",
       "      <td>DKI3</td>\n",
       "    </tr>\n",
       "    <tr>\n",
       "      <th>2018-01-04</th>\n",
       "      <td>53.0</td>\n",
       "      <td>49.0</td>\n",
       "      <td>34.0</td>\n",
       "      <td>57.0</td>\n",
       "      <td>15.0</td>\n",
       "      <td>57.0</td>\n",
       "      <td>O3</td>\n",
       "      <td>SEDANG</td>\n",
       "      <td>DKI3</td>\n",
       "    </tr>\n",
       "    <tr>\n",
       "      <th>2018-01-05</th>\n",
       "      <td>44.0</td>\n",
       "      <td>32.0</td>\n",
       "      <td>26.0</td>\n",
       "      <td>28.0</td>\n",
       "      <td>10.0</td>\n",
       "      <td>44.0</td>\n",
       "      <td>PM10</td>\n",
       "      <td>BAIK</td>\n",
       "      <td>DKI4</td>\n",
       "    </tr>\n",
       "  </tbody>\n",
       "</table>\n",
       "</div>"
      ],
      "text/plain": [
       "            pm10   so2    co     o3   no2    max critical     categori  \\\n",
       "tanggal                                                                  \n",
       "2018-01-01  76.0  31.0  38.0   35.0   9.0   76.0     PM10       SEDANG   \n",
       "2018-01-02  23.0  31.0  24.0   39.0  14.0   39.0       O3         BAIK   \n",
       "2018-01-03  53.0  35.0  35.0  101.0  23.0  101.0       O3  TIDAK SEHAT   \n",
       "2018-01-04  53.0  49.0  34.0   57.0  15.0   57.0       O3       SEDANG   \n",
       "2018-01-05  44.0  32.0  26.0   28.0  10.0   44.0     PM10         BAIK   \n",
       "\n",
       "           lokasi_spku  \n",
       "tanggal                 \n",
       "2018-01-01        DKI4  \n",
       "2018-01-02        DKI3  \n",
       "2018-01-03        DKI3  \n",
       "2018-01-04        DKI3  \n",
       "2018-01-05        DKI4  "
      ]
     },
     "execution_count": 2,
     "metadata": {},
     "output_type": "execute_result"
    }
   ],
   "source": [
    "base_dir = 'E:/Files/Document/ngoding ngab/Portofolio/2. Gemastik 2023/dataset/fix/indeks-standar-pencemar-udara-di-provinsi-dki-jakarta.csv'\n",
    "df = pd.read_csv(base_dir, index_col=0, parse_dates=True)\n",
    "df.head()"
   ]
  },
  {
   "cell_type": "code",
   "execution_count": 3,
   "metadata": {},
   "outputs": [
    {
     "name": "stdout",
     "output_type": "stream",
     "text": [
      "<class 'pandas.core.frame.DataFrame'>\n",
      "DatetimeIndex: 923 entries, 2018-01-01 to 2020-07-31\n",
      "Data columns (total 9 columns):\n",
      " #   Column       Non-Null Count  Dtype  \n",
      "---  ------       --------------  -----  \n",
      " 0   pm10         923 non-null    float64\n",
      " 1   so2          923 non-null    float64\n",
      " 2   co           923 non-null    float64\n",
      " 3   o3           923 non-null    float64\n",
      " 4   no2          923 non-null    float64\n",
      " 5   max          923 non-null    float64\n",
      " 6   critical     895 non-null    object \n",
      " 7   categori     892 non-null    object \n",
      " 8   lokasi_spku  892 non-null    object \n",
      "dtypes: float64(6), object(3)\n",
      "memory usage: 72.1+ KB\n"
     ]
    }
   ],
   "source": [
    "df.info()"
   ]
  },
  {
   "cell_type": "code",
   "execution_count": 4,
   "metadata": {},
   "outputs": [
    {
     "data": {
      "text/plain": [
       "pm10            0\n",
       "so2             0\n",
       "co              0\n",
       "o3              0\n",
       "no2             0\n",
       "max             0\n",
       "critical       28\n",
       "categori       31\n",
       "lokasi_spku    31\n",
       "dtype: int64"
      ]
     },
     "execution_count": 4,
     "metadata": {},
     "output_type": "execute_result"
    }
   ],
   "source": [
    "df.isnull().sum()"
   ]
  },
  {
   "cell_type": "markdown",
   "metadata": {},
   "source": [
    "## Data Preparation"
   ]
  },
  {
   "cell_type": "code",
   "execution_count": 5,
   "metadata": {},
   "outputs": [
    {
     "data": {
      "image/png": "[encoded data removed]",
      "text/plain": [
       "<Figure size 640x480 with 6 Axes>"
      ]
     },
     "metadata": {},
     "output_type": "display_data"
    }
   ],
   "source": [
    "# previewing the features data\n",
    "groups = [0, 1, 2, 3, 4]\n",
    "values = df.values\n",
    "fig, sub = plt.subplots(3, 2)\n",
    "plt.subplots_adjust(wspace=1, hspace=1)\n",
    "\n",
    "for ax, i in zip(sub.flatten(), groups):\n",
    "    ax.plot(values[:, i])\n",
    "    ax.set_xticks(())\n",
    "    ax.set_yticks(())\n",
    "    ax.set_title(df.columns[i])\n",
    "\n",
    "plt.show()"
   ]
  },
  {
   "cell_type": "code",
   "execution_count": 72,
   "metadata": {},
   "outputs": [
    {
     "data": {
      "text/plain": [
       "array([0.49122807, 0.31666667, 0.43181818, 0.03255814, 0.17142857])"
      ]
     },
     "execution_count": 72,
     "metadata": {},
     "output_type": "execute_result"
    }
   ],
   "source": [
    "scaler = MinMaxScaler()\n",
    "num_values = [0, 1, 2, 3, 4] \n",
    "scaled = scaler.fit_transform(df.values[:, num_values])\n",
    "scaled[0]\n"
   ]
  },
  {
   "cell_type": "code",
   "execution_count": 73,
   "metadata": {},
   "outputs": [],
   "source": [
    "# convert series to supervised learning\n",
    "def to_supervised(data,dropNa = True,lag = 1):\n",
    "    df = pd.DataFrame(data)\n",
    "    column = []\n",
    "    column.append(df)\n",
    "    for i in range(1,lag+1):\n",
    "        column.append(df.shift(-i))\n",
    "    df = pd.concat(column,axis=1)\n",
    "    df.dropna(inplace = True)\n",
    "    features = data.shape[1]\n",
    "    df = df.values\n",
    "    supervised_data = df[:,:features*lag]\n",
    "    supervised_data = np.column_stack( [supervised_data, df[:,features*lag]])\n",
    "    return supervised_data"
   ]
  },
  {
   "cell_type": "code",
   "execution_count": 74,
   "metadata": {},
   "outputs": [
    {
     "data": {
      "text/html": [
       "<div>\n",
       "<style scoped>\n",
       "    .dataframe tbody tr th:only-of-type {\n",
       "        vertical-align: middle;\n",
       "    }\n",
       "\n",
       "    .dataframe tbody tr th {\n",
       "        vertical-align: top;\n",
       "    }\n",
       "\n",
       "    .dataframe thead th {\n",
       "        text-align: right;\n",
       "    }\n",
       "</style>\n",
       "<table border=\"1\" class=\"dataframe\">\n",
       "  <thead>\n",
       "    <tr style=\"text-align: right;\">\n",
       "      <th></th>\n",
       "      <th>0</th>\n",
       "      <th>1</th>\n",
       "      <th>2</th>\n",
       "      <th>3</th>\n",
       "      <th>4</th>\n",
       "      <th>5</th>\n",
       "      <th>6</th>\n",
       "      <th>7</th>\n",
       "      <th>8</th>\n",
       "      <th>9</th>\n",
       "      <th>10</th>\n",
       "    </tr>\n",
       "  </thead>\n",
       "  <tbody>\n",
       "    <tr>\n",
       "      <th>0</th>\n",
       "      <td>0.491228</td>\n",
       "      <td>0.316667</td>\n",
       "      <td>0.431818</td>\n",
       "      <td>0.032558</td>\n",
       "      <td>0.171429</td>\n",
       "      <td>0.026316</td>\n",
       "      <td>0.316667</td>\n",
       "      <td>0.272727</td>\n",
       "      <td>0.051163</td>\n",
       "      <td>0.314286</td>\n",
       "      <td>0.289474</td>\n",
       "    </tr>\n",
       "    <tr>\n",
       "      <th>1</th>\n",
       "      <td>0.026316</td>\n",
       "      <td>0.316667</td>\n",
       "      <td>0.272727</td>\n",
       "      <td>0.051163</td>\n",
       "      <td>0.314286</td>\n",
       "      <td>0.289474</td>\n",
       "      <td>0.383333</td>\n",
       "      <td>0.397727</td>\n",
       "      <td>0.339535</td>\n",
       "      <td>0.571429</td>\n",
       "      <td>0.289474</td>\n",
       "    </tr>\n",
       "    <tr>\n",
       "      <th>2</th>\n",
       "      <td>0.289474</td>\n",
       "      <td>0.383333</td>\n",
       "      <td>0.397727</td>\n",
       "      <td>0.339535</td>\n",
       "      <td>0.571429</td>\n",
       "      <td>0.289474</td>\n",
       "      <td>0.616667</td>\n",
       "      <td>0.386364</td>\n",
       "      <td>0.134884</td>\n",
       "      <td>0.342857</td>\n",
       "      <td>0.210526</td>\n",
       "    </tr>\n",
       "    <tr>\n",
       "      <th>3</th>\n",
       "      <td>0.289474</td>\n",
       "      <td>0.616667</td>\n",
       "      <td>0.386364</td>\n",
       "      <td>0.134884</td>\n",
       "      <td>0.342857</td>\n",
       "      <td>0.210526</td>\n",
       "      <td>0.333333</td>\n",
       "      <td>0.295455</td>\n",
       "      <td>0.000000</td>\n",
       "      <td>0.200000</td>\n",
       "      <td>0.000000</td>\n",
       "    </tr>\n",
       "    <tr>\n",
       "      <th>4</th>\n",
       "      <td>0.210526</td>\n",
       "      <td>0.333333</td>\n",
       "      <td>0.295455</td>\n",
       "      <td>0.000000</td>\n",
       "      <td>0.200000</td>\n",
       "      <td>0.000000</td>\n",
       "      <td>0.300000</td>\n",
       "      <td>0.250000</td>\n",
       "      <td>0.013953</td>\n",
       "      <td>0.057143</td>\n",
       "      <td>0.052632</td>\n",
       "    </tr>\n",
       "  </tbody>\n",
       "</table>\n",
       "</div>"
      ],
      "text/plain": [
       "         0         1         2         3         4         5         6   \\\n",
       "0  0.491228  0.316667  0.431818  0.032558  0.171429  0.026316  0.316667   \n",
       "1  0.026316  0.316667  0.272727  0.051163  0.314286  0.289474  0.383333   \n",
       "2  0.289474  0.383333  0.397727  0.339535  0.571429  0.289474  0.616667   \n",
       "3  0.289474  0.616667  0.386364  0.134884  0.342857  0.210526  0.333333   \n",
       "4  0.210526  0.333333  0.295455  0.000000  0.200000  0.000000  0.300000   \n",
       "\n",
       "         7         8         9         10  \n",
       "0  0.272727  0.051163  0.314286  0.289474  \n",
       "1  0.397727  0.339535  0.571429  0.289474  \n",
       "2  0.386364  0.134884  0.342857  0.210526  \n",
       "3  0.295455  0.000000  0.200000  0.000000  \n",
       "4  0.250000  0.013953  0.057143  0.052632  "
      ]
     },
     "execution_count": 74,
     "metadata": {},
     "output_type": "execute_result"
    }
   ],
   "source": [
    "time_steps = 2\n",
    "\n",
    "supervised = to_supervised(scaled, lag=time_steps)\n",
    "pd.DataFrame(supervised).head()"
   ]
  },
  {
   "cell_type": "code",
   "execution_count": 152,
   "metadata": {},
   "outputs": [
    {
     "data": {
      "text/plain": [
       "((736, 10), (736,), (185, 10), (185,))"
      ]
     },
     "execution_count": 152,
     "metadata": {},
     "output_type": "execute_result"
    }
   ],
   "source": [
    "# split data into train and test-sets\n",
    "train_ratio = 0.8\n",
    "train_size = int(train_ratio * len(supervised))\n",
    "\n",
    "x_train = supervised[:train_size, :-1]\n",
    "y_train = supervised[:train_size, -1]\n",
    "\n",
    "x_test = supervised[train_size:, :-1]\n",
    "y_test = supervised[train_size:, -1]\n",
    "\n",
    "x_train.shape, y_train.shape, x_test.shape, y_test.shape"
   ]
  },
  {
   "cell_type": "code",
   "execution_count": 166,
   "metadata": {},
   "outputs": [
    {
     "data": {
      "text/plain": [
       "((736, 2, 5), (185, 2, 5))"
      ]
     },
     "execution_count": 166,
     "metadata": {},
     "output_type": "execute_result"
    }
   ],
   "source": [
    "features = 5\n",
    "x_train = x_train.reshape(x_train.shape[0], time_steps, features)\n",
    "x_test = x_test.reshape(x_test.shape[0], time_steps, features)\n",
    "\n",
    "x_train.shape, x_test.shape,"
   ]
  },
  {
   "cell_type": "markdown",
   "metadata": {},
   "source": [
    "## Build Model"
   ]
  },
  {
   "cell_type": "code",
   "execution_count": 96,
   "metadata": {},
   "outputs": [],
   "source": [
    "# hapus history sebelumnya\n",
    "tf.keras.backend.clear_session()"
   ]
  },
  {
   "cell_type": "code",
   "execution_count": 97,
   "metadata": {},
   "outputs": [
    {
     "name": "stdout",
     "output_type": "stream",
     "text": [
      "Model: \"sequential\"\n",
      "_________________________________________________________________\n",
      " Layer (type)                Output Shape              Param #   \n",
      "=================================================================\n",
      " lstm (LSTM)                 (None, 4)                 160       \n",
      "                                                                 \n",
      " dense (Dense)               (None, 1)                 5         \n",
      "                                                                 \n",
      "=================================================================\n",
      "Total params: 165\n",
      "Trainable params: 165\n",
      "Non-trainable params: 0\n",
      "_________________________________________________________________\n"
     ]
    }
   ],
   "source": [
    "model = tf.keras.models.Sequential([\n",
    "    tf.keras.layers.LSTM(4, input_shape=(x_train.shape[1], x_train.shape[2])),\n",
    "    tf.keras.layers.Dense(1)\n",
    "])\n",
    "\n",
    "loss = tf.keras.losses.Huber()\n",
    "optimizer = tf.keras.optimizers.Adam(0.001)\n",
    "\n",
    "model.compile(loss=loss, optimizer=optimizer, metrics=[\"mae\"])\n",
    "\n",
    "model.summary()\n"
   ]
  },
  {
   "cell_type": "code",
   "execution_count": 98,
   "metadata": {},
   "outputs": [
    {
     "name": "stdout",
     "output_type": "stream",
     "text": [
      "Epoch 1/100\n",
      "23/23 [==============================] - 35s 55ms/step - loss: 0.0604 - mae: 0.3301 - val_loss: 0.0544 - val_mae: 0.3102\n",
      "Epoch 2/100\n",
      "23/23 [==============================] - 0s 8ms/step - loss: 0.0341 - mae: 0.2391 - val_loss: 0.0336 - val_mae: 0.2348\n",
      "Epoch 3/100\n",
      "23/23 [==============================] - 0s 9ms/step - loss: 0.0183 - mae: 0.1663 - val_loss: 0.0206 - val_mae: 0.1779\n",
      "Epoch 4/100\n",
      "23/23 [==============================] - 0s 9ms/step - loss: 0.0101 - mae: 0.1162 - val_loss: 0.0137 - val_mae: 0.1385\n",
      "Epoch 5/100\n",
      "23/23 [==============================] - 0s 8ms/step - loss: 0.0068 - mae: 0.0922 - val_loss: 0.0102 - val_mae: 0.1142\n",
      "Epoch 6/100\n",
      "23/23 [==============================] - 0s 10ms/step - loss: 0.0059 - mae: 0.0840 - val_loss: 0.0089 - val_mae: 0.1044\n",
      "Epoch 7/100\n",
      "23/23 [==============================] - 0s 13ms/step - loss: 0.0057 - mae: 0.0820 - val_loss: 0.0085 - val_mae: 0.1010\n",
      "Epoch 8/100\n",
      "23/23 [==============================] - 0s 13ms/step - loss: 0.0056 - mae: 0.0815 - val_loss: 0.0083 - val_mae: 0.1000\n",
      "Epoch 9/100\n",
      "23/23 [==============================] - 0s 10ms/step - loss: 0.0056 - mae: 0.0812 - val_loss: 0.0082 - val_mae: 0.0991\n",
      "Epoch 10/100\n",
      "23/23 [==============================] - 0s 13ms/step - loss: 0.0055 - mae: 0.0809 - val_loss: 0.0082 - val_mae: 0.0989\n",
      "Epoch 11/100\n",
      "23/23 [==============================] - 0s 9ms/step - loss: 0.0055 - mae: 0.0806 - val_loss: 0.0081 - val_mae: 0.0982\n",
      "Epoch 12/100\n",
      "23/23 [==============================] - 0s 9ms/step - loss: 0.0055 - mae: 0.0804 - val_loss: 0.0081 - val_mae: 0.0983\n",
      "Epoch 13/100\n",
      "23/23 [==============================] - 0s 9ms/step - loss: 0.0055 - mae: 0.0803 - val_loss: 0.0080 - val_mae: 0.0981\n",
      "Epoch 14/100\n",
      "23/23 [==============================] - 0s 8ms/step - loss: 0.0054 - mae: 0.0800 - val_loss: 0.0079 - val_mae: 0.0970\n",
      "Epoch 15/100\n",
      "23/23 [==============================] - 0s 9ms/step - loss: 0.0054 - mae: 0.0798 - val_loss: 0.0078 - val_mae: 0.0964\n",
      "Epoch 16/100\n",
      "23/23 [==============================] - 0s 9ms/step - loss: 0.0054 - mae: 0.0795 - val_loss: 0.0078 - val_mae: 0.0961\n",
      "Epoch 17/100\n",
      "23/23 [==============================] - 0s 8ms/step - loss: 0.0053 - mae: 0.0793 - val_loss: 0.0077 - val_mae: 0.0960\n",
      "Epoch 18/100\n",
      "23/23 [==============================] - 0s 9ms/step - loss: 0.0053 - mae: 0.0791 - val_loss: 0.0076 - val_mae: 0.0952\n",
      "Epoch 19/100\n",
      "23/23 [==============================] - 0s 9ms/step - loss: 0.0053 - mae: 0.0788 - val_loss: 0.0076 - val_mae: 0.0949\n",
      "Epoch 20/100\n",
      "23/23 [==============================] - 0s 9ms/step - loss: 0.0053 - mae: 0.0787 - val_loss: 0.0076 - val_mae: 0.0947\n",
      "Epoch 21/100\n",
      "23/23 [==============================] - 0s 9ms/step - loss: 0.0052 - mae: 0.0785 - val_loss: 0.0075 - val_mae: 0.0940\n",
      "Epoch 22/100\n",
      "23/23 [==============================] - 0s 9ms/step - loss: 0.0052 - mae: 0.0783 - val_loss: 0.0074 - val_mae: 0.0939\n",
      "Epoch 23/100\n",
      "23/23 [==============================] - 0s 10ms/step - loss: 0.0052 - mae: 0.0781 - val_loss: 0.0074 - val_mae: 0.0935\n",
      "Epoch 24/100\n",
      "23/23 [==============================] - 0s 10ms/step - loss: 0.0052 - mae: 0.0780 - val_loss: 0.0073 - val_mae: 0.0932\n",
      "Epoch 25/100\n",
      "23/23 [==============================] - 0s 14ms/step - loss: 0.0052 - mae: 0.0778 - val_loss: 0.0073 - val_mae: 0.0929\n",
      "Epoch 26/100\n",
      "23/23 [==============================] - 0s 9ms/step - loss: 0.0051 - mae: 0.0777 - val_loss: 0.0072 - val_mae: 0.0922\n",
      "Epoch 27/100\n",
      "23/23 [==============================] - 0s 8ms/step - loss: 0.0051 - mae: 0.0775 - val_loss: 0.0073 - val_mae: 0.0929\n",
      "Epoch 28/100\n",
      "23/23 [==============================] - 0s 9ms/step - loss: 0.0051 - mae: 0.0773 - val_loss: 0.0072 - val_mae: 0.0921\n",
      "Epoch 29/100\n",
      "23/23 [==============================] - 0s 10ms/step - loss: 0.0051 - mae: 0.0771 - val_loss: 0.0071 - val_mae: 0.0917\n",
      "Epoch 30/100\n",
      "23/23 [==============================] - 0s 9ms/step - loss: 0.0051 - mae: 0.0771 - val_loss: 0.0070 - val_mae: 0.0912\n",
      "Epoch 31/100\n",
      "23/23 [==============================] - 0s 9ms/step - loss: 0.0050 - mae: 0.0769 - val_loss: 0.0070 - val_mae: 0.0912\n",
      "Epoch 32/100\n",
      "23/23 [==============================] - 0s 17ms/step - loss: 0.0050 - mae: 0.0767 - val_loss: 0.0070 - val_mae: 0.0912\n",
      "Epoch 33/100\n",
      "23/23 [==============================] - 0s 9ms/step - loss: 0.0050 - mae: 0.0766 - val_loss: 0.0069 - val_mae: 0.0905\n",
      "Epoch 34/100\n",
      "23/23 [==============================] - 0s 8ms/step - loss: 0.0050 - mae: 0.0765 - val_loss: 0.0070 - val_mae: 0.0912\n",
      "Epoch 35/100\n",
      "23/23 [==============================] - 0s 9ms/step - loss: 0.0050 - mae: 0.0763 - val_loss: 0.0069 - val_mae: 0.0901\n",
      "Epoch 36/100\n",
      "23/23 [==============================] - 0s 9ms/step - loss: 0.0050 - mae: 0.0761 - val_loss: 0.0068 - val_mae: 0.0901\n",
      "Epoch 37/100\n",
      "23/23 [==============================] - 0s 9ms/step - loss: 0.0049 - mae: 0.0760 - val_loss: 0.0067 - val_mae: 0.0893\n",
      "Epoch 38/100\n",
      "23/23 [==============================] - 0s 9ms/step - loss: 0.0049 - mae: 0.0759 - val_loss: 0.0068 - val_mae: 0.0899\n",
      "Epoch 39/100\n",
      "23/23 [==============================] - 0s 9ms/step - loss: 0.0049 - mae: 0.0757 - val_loss: 0.0067 - val_mae: 0.0891\n",
      "Epoch 40/100\n",
      "23/23 [==============================] - 0s 8ms/step - loss: 0.0049 - mae: 0.0756 - val_loss: 0.0067 - val_mae: 0.0888\n",
      "Epoch 41/100\n",
      "23/23 [==============================] - 0s 9ms/step - loss: 0.0049 - mae: 0.0754 - val_loss: 0.0067 - val_mae: 0.0889\n",
      "Epoch 42/100\n",
      "23/23 [==============================] - 0s 9ms/step - loss: 0.0049 - mae: 0.0753 - val_loss: 0.0066 - val_mae: 0.0882\n",
      "Epoch 43/100\n",
      "23/23 [==============================] - 0s 9ms/step - loss: 0.0048 - mae: 0.0752 - val_loss: 0.0066 - val_mae: 0.0883\n",
      "Epoch 44/100\n",
      "23/23 [==============================] - 0s 9ms/step - loss: 0.0048 - mae: 0.0751 - val_loss: 0.0066 - val_mae: 0.0882\n",
      "Epoch 45/100\n",
      "23/23 [==============================] - 0s 11ms/step - loss: 0.0048 - mae: 0.0751 - val_loss: 0.0064 - val_mae: 0.0873\n",
      "Epoch 46/100\n",
      "23/23 [==============================] - 0s 8ms/step - loss: 0.0048 - mae: 0.0749 - val_loss: 0.0066 - val_mae: 0.0880\n",
      "Epoch 47/100\n",
      "23/23 [==============================] - 0s 8ms/step - loss: 0.0048 - mae: 0.0748 - val_loss: 0.0063 - val_mae: 0.0865\n",
      "Epoch 48/100\n",
      "23/23 [==============================] - 0s 10ms/step - loss: 0.0048 - mae: 0.0746 - val_loss: 0.0064 - val_mae: 0.0867\n",
      "Epoch 49/100\n",
      "23/23 [==============================] - 0s 8ms/step - loss: 0.0048 - mae: 0.0746 - val_loss: 0.0063 - val_mae: 0.0864\n",
      "Epoch 50/100\n",
      "23/23 [==============================] - 0s 9ms/step - loss: 0.0047 - mae: 0.0744 - val_loss: 0.0064 - val_mae: 0.0866\n",
      "Epoch 51/100\n",
      "23/23 [==============================] - 0s 9ms/step - loss: 0.0047 - mae: 0.0742 - val_loss: 0.0063 - val_mae: 0.0860\n",
      "Epoch 52/100\n",
      "23/23 [==============================] - 0s 9ms/step - loss: 0.0047 - mae: 0.0741 - val_loss: 0.0062 - val_mae: 0.0856\n",
      "Epoch 53/100\n",
      "23/23 [==============================] - 0s 9ms/step - loss: 0.0047 - mae: 0.0740 - val_loss: 0.0063 - val_mae: 0.0858\n",
      "Epoch 54/100\n",
      "23/23 [==============================] - 0s 9ms/step - loss: 0.0047 - mae: 0.0739 - val_loss: 0.0062 - val_mae: 0.0852\n",
      "Epoch 55/100\n",
      "23/23 [==============================] - 0s 9ms/step - loss: 0.0047 - mae: 0.0737 - val_loss: 0.0062 - val_mae: 0.0855\n",
      "Epoch 56/100\n",
      "23/23 [==============================] - 0s 9ms/step - loss: 0.0046 - mae: 0.0736 - val_loss: 0.0061 - val_mae: 0.0847\n",
      "Epoch 57/100\n",
      "23/23 [==============================] - 0s 10ms/step - loss: 0.0046 - mae: 0.0735 - val_loss: 0.0061 - val_mae: 0.0847\n",
      "Epoch 58/100\n",
      "23/23 [==============================] - 0s 10ms/step - loss: 0.0046 - mae: 0.0734 - val_loss: 0.0060 - val_mae: 0.0843\n",
      "Epoch 59/100\n",
      "23/23 [==============================] - 0s 10ms/step - loss: 0.0046 - mae: 0.0733 - val_loss: 0.0060 - val_mae: 0.0840\n",
      "Epoch 60/100\n",
      "23/23 [==============================] - 0s 9ms/step - loss: 0.0046 - mae: 0.0734 - val_loss: 0.0060 - val_mae: 0.0841\n",
      "Epoch 61/100\n",
      "23/23 [==============================] - 0s 14ms/step - loss: 0.0046 - mae: 0.0730 - val_loss: 0.0059 - val_mae: 0.0834\n",
      "Epoch 62/100\n",
      "23/23 [==============================] - 0s 10ms/step - loss: 0.0046 - mae: 0.0730 - val_loss: 0.0060 - val_mae: 0.0838\n",
      "Epoch 63/100\n",
      "23/23 [==============================] - 0s 10ms/step - loss: 0.0046 - mae: 0.0728 - val_loss: 0.0059 - val_mae: 0.0831\n",
      "Epoch 64/100\n",
      "23/23 [==============================] - 0s 9ms/step - loss: 0.0045 - mae: 0.0726 - val_loss: 0.0059 - val_mae: 0.0832\n",
      "Epoch 65/100\n",
      "23/23 [==============================] - 0s 10ms/step - loss: 0.0045 - mae: 0.0725 - val_loss: 0.0059 - val_mae: 0.0828\n",
      "Epoch 66/100\n",
      "23/23 [==============================] - 0s 10ms/step - loss: 0.0045 - mae: 0.0725 - val_loss: 0.0058 - val_mae: 0.0826\n",
      "Epoch 67/100\n",
      "23/23 [==============================] - 0s 9ms/step - loss: 0.0045 - mae: 0.0723 - val_loss: 0.0058 - val_mae: 0.0825\n",
      "Epoch 68/100\n",
      "23/23 [==============================] - 0s 12ms/step - loss: 0.0045 - mae: 0.0722 - val_loss: 0.0058 - val_mae: 0.0821\n",
      "Epoch 69/100\n",
      "23/23 [==============================] - 0s 9ms/step - loss: 0.0045 - mae: 0.0722 - val_loss: 0.0058 - val_mae: 0.0820\n",
      "Epoch 70/100\n",
      "23/23 [==============================] - 0s 9ms/step - loss: 0.0045 - mae: 0.0721 - val_loss: 0.0057 - val_mae: 0.0817\n",
      "Epoch 71/100\n",
      "23/23 [==============================] - 0s 9ms/step - loss: 0.0045 - mae: 0.0719 - val_loss: 0.0057 - val_mae: 0.0816\n",
      "Epoch 72/100\n",
      "23/23 [==============================] - 0s 9ms/step - loss: 0.0045 - mae: 0.0721 - val_loss: 0.0058 - val_mae: 0.0817\n",
      "Epoch 73/100\n",
      "23/23 [==============================] - 0s 9ms/step - loss: 0.0045 - mae: 0.0716 - val_loss: 0.0057 - val_mae: 0.0811\n",
      "Epoch 74/100\n",
      "23/23 [==============================] - 0s 8ms/step - loss: 0.0044 - mae: 0.0718 - val_loss: 0.0056 - val_mae: 0.0808\n",
      "Epoch 75/100\n",
      "23/23 [==============================] - 0s 9ms/step - loss: 0.0044 - mae: 0.0716 - val_loss: 0.0057 - val_mae: 0.0811\n",
      "Epoch 76/100\n",
      "23/23 [==============================] - 0s 9ms/step - loss: 0.0044 - mae: 0.0716 - val_loss: 0.0056 - val_mae: 0.0807\n",
      "Epoch 77/100\n",
      "23/23 [==============================] - 0s 9ms/step - loss: 0.0044 - mae: 0.0714 - val_loss: 0.0057 - val_mae: 0.0809\n",
      "Epoch 78/100\n",
      "23/23 [==============================] - 0s 9ms/step - loss: 0.0044 - mae: 0.0715 - val_loss: 0.0056 - val_mae: 0.0805\n",
      "Epoch 79/100\n",
      "23/23 [==============================] - 0s 9ms/step - loss: 0.0044 - mae: 0.0713 - val_loss: 0.0056 - val_mae: 0.0806\n",
      "Epoch 80/100\n",
      "23/23 [==============================] - 0s 9ms/step - loss: 0.0044 - mae: 0.0711 - val_loss: 0.0056 - val_mae: 0.0802\n",
      "Epoch 81/100\n",
      "23/23 [==============================] - 0s 9ms/step - loss: 0.0044 - mae: 0.0711 - val_loss: 0.0056 - val_mae: 0.0803\n",
      "Epoch 82/100\n",
      "23/23 [==============================] - 0s 9ms/step - loss: 0.0044 - mae: 0.0711 - val_loss: 0.0055 - val_mae: 0.0800\n",
      "Epoch 83/100\n",
      "23/23 [==============================] - 0s 9ms/step - loss: 0.0044 - mae: 0.0710 - val_loss: 0.0056 - val_mae: 0.0801\n",
      "Epoch 84/100\n",
      "23/23 [==============================] - 0s 8ms/step - loss: 0.0044 - mae: 0.0711 - val_loss: 0.0056 - val_mae: 0.0803\n",
      "Epoch 85/100\n",
      "23/23 [==============================] - 0s 9ms/step - loss: 0.0044 - mae: 0.0708 - val_loss: 0.0055 - val_mae: 0.0798\n",
      "Epoch 86/100\n",
      "23/23 [==============================] - 0s 14ms/step - loss: 0.0044 - mae: 0.0709 - val_loss: 0.0055 - val_mae: 0.0797\n",
      "Epoch 87/100\n",
      "23/23 [==============================] - 0s 10ms/step - loss: 0.0044 - mae: 0.0708 - val_loss: 0.0055 - val_mae: 0.0798\n",
      "Epoch 88/100\n",
      "23/23 [==============================] - 0s 9ms/step - loss: 0.0044 - mae: 0.0709 - val_loss: 0.0055 - val_mae: 0.0794\n",
      "Epoch 89/100\n",
      "23/23 [==============================] - 0s 9ms/step - loss: 0.0044 - mae: 0.0708 - val_loss: 0.0056 - val_mae: 0.0798\n",
      "Epoch 90/100\n",
      "23/23 [==============================] - 0s 8ms/step - loss: 0.0044 - mae: 0.0712 - val_loss: 0.0055 - val_mae: 0.0796\n",
      "Epoch 91/100\n",
      "23/23 [==============================] - 0s 9ms/step - loss: 0.0044 - mae: 0.0710 - val_loss: 0.0055 - val_mae: 0.0794\n",
      "Epoch 92/100\n",
      "23/23 [==============================] - 0s 9ms/step - loss: 0.0043 - mae: 0.0707 - val_loss: 0.0055 - val_mae: 0.0795\n",
      "Epoch 93/100\n",
      "23/23 [==============================] - 0s 11ms/step - loss: 0.0043 - mae: 0.0707 - val_loss: 0.0054 - val_mae: 0.0791\n",
      "Epoch 94/100\n",
      "23/23 [==============================] - 0s 9ms/step - loss: 0.0043 - mae: 0.0707 - val_loss: 0.0055 - val_mae: 0.0794\n",
      "Epoch 95/100\n",
      "23/23 [==============================] - 0s 9ms/step - loss: 0.0043 - mae: 0.0705 - val_loss: 0.0055 - val_mae: 0.0793\n",
      "Epoch 96/100\n",
      "23/23 [==============================] - 0s 9ms/step - loss: 0.0043 - mae: 0.0706 - val_loss: 0.0054 - val_mae: 0.0790\n",
      "Epoch 97/100\n",
      "23/23 [==============================] - 0s 9ms/step - loss: 0.0043 - mae: 0.0706 - val_loss: 0.0055 - val_mae: 0.0792\n",
      "Epoch 98/100\n",
      "23/23 [==============================] - 0s 8ms/step - loss: 0.0043 - mae: 0.0704 - val_loss: 0.0055 - val_mae: 0.0790\n",
      "Epoch 99/100\n",
      "23/23 [==============================] - 0s 9ms/step - loss: 0.0043 - mae: 0.0704 - val_loss: 0.0055 - val_mae: 0.0791\n",
      "Epoch 100/100\n",
      "23/23 [==============================] - 0s 9ms/step - loss: 0.0043 - mae: 0.0703 - val_loss: 0.0054 - val_mae: 0.0789\n"
     ]
    }
   ],
   "source": [
    "history = model.fit(x_train, y_train, epochs=100, validation_data=(x_test, y_test))"
   ]
  },
  {
   "cell_type": "code",
   "execution_count": 99,
   "metadata": {},
   "outputs": [
    {
     "data": {
      "image/png": "[encoded data removed]",
      "text/plain": [
       "<Figure size 640x480 with 1 Axes>"
      ]
     },
     "metadata": {},
     "output_type": "display_data"
    }
   ],
   "source": [
    "plt.plot(history.history['loss'], label='train')\n",
    "plt.plot(history.history['val_loss'], label='test')\n",
    "plt.legend()\n",
    "plt.yticks([])\n",
    "plt.xticks([])\n",
    "plt.title(\"loss during training\")\n",
    "plt.show()"
   ]
  },
  {
   "cell_type": "markdown",
   "metadata": {},
   "source": [
    "## Prediction"
   ]
  },
  {
   "cell_type": "code",
   "execution_count": 100,
   "metadata": {},
   "outputs": [
    {
     "name": "stdout",
     "output_type": "stream",
     "text": [
      "6/6 [==============================] - 1s 3ms/step\n",
      "Prediksi untuk 185 hari.\n"
     ]
    }
   ],
   "source": [
    "y_pred = model.predict(x_test)\n",
    "x_test = x_test.reshape(x_test.shape[0],x_test.shape[2]*x_test.shape[1])\n",
    "\n",
    "inv_new = np.concatenate( (y_pred, x_test[:,-4:] ) ,axis = 1)\n",
    "inv_new = scaler.inverse_transform(inv_new)\n",
    "final_pred = inv_new[:,0]\n",
    "\n",
    "y_test = y_test.reshape( len(y_test), 1)\n",
    "\n",
    "inv_new = np.concatenate( (y_test, x_test[:,-4:] ) ,axis = 1)\n",
    "inv_new = scaler.inverse_transform(inv_new)\n",
    "actual_pred = inv_new[:,0]\n",
    "\n",
    "jumlah_hari = y_pred.shape[0]\n",
    "print(\"Prediksi untuk\", jumlah_hari, \"hari.\")"
   ]
  },
  {
   "cell_type": "code",
   "execution_count": 148,
   "metadata": {},
   "outputs": [
    {
     "data": {
      "text/plain": [
       "<matplotlib.legend.Legend at 0x19d81602c40>"
      ]
     },
     "execution_count": 148,
     "metadata": {},
     "output_type": "execute_result"
    },
    {
     "data": {
      "image/png": "[encoded data removed]",
      "text/plain": [
       "<Figure size 640x480 with 1 Axes>"
      ]
     },
     "metadata": {},
     "output_type": "display_data"
    }
   ],
   "source": [
    "plt.plot(final_pred[:200], label = \"prediction\",c = \"b\")\n",
    "plt.plot(actual_pred[:200],label = \"actual data\",c=\"r\")\n",
    "plt.xlim(0, 100)\n",
    "plt.ylim(0, 300)\n",
    "plt.yticks([])\n",
    "plt.xticks([])\n",
    "plt.title(\"comparison between prediction and actual data\")\n",
    "plt.legend()"
   ]
  },
  {
   "cell_type": "code",
   "execution_count": 168,
   "metadata": {},
   "outputs": [
    {
     "data": {
      "image/png": "[encoded data removed]",
      "text/plain": [
       "<Figure size 640x480 with 1 Axes>"
      ]
     },
     "metadata": {},
     "output_type": "display_data"
    }
   ],
   "source": [
    "plt.plot(final_pred[:200], label='Prediksi', color='b')\n",
    "# plt.plot(actual_pred[:200],label = \"actual data\",c=\"r\")\n",
    "plt.xlim(0, 1)\n",
    "plt.ylim(0, 10)\n",
    "plt.xticks(range(0, 11, 1))\n",
    "plt.yticks(range(0, 100, 10))\n",
    "plt.xlabel('Hari')\n",
    "plt.ylabel('Nilai parameter kualitas udara')\n",
    "plt.title('Prediksi Kualitas Udara Jakarta untuk 10 hari Ke depan')\n",
    "plt.legend()\n",
    "plt.show()"
   ]
  },
  {
   "cell_type": "code",
   "execution_count": 150,
   "metadata": {},
   "outputs": [
    {
     "name": "stdout",
     "output_type": "stream",
     "text": [
      "Nilai RMSE:  11.889079423581535\n"
     ]
    }
   ],
   "source": [
    "# nilai akurasi model\n",
    "from sklearn.metrics import mean_squared_error\n",
    "\n",
    "mse = mean_squared_error(actual_pred, final_pred)\n",
    "rmse = np.sqrt(mse)\n",
    "\n",
    "print(\"Nilai RMSE: \", rmse)"
   ]
  },
  {
   "cell_type": "code",
   "execution_count": 167,
   "metadata": {},
   "outputs": [
    {
     "name": "stdout",
     "output_type": "stream",
     "text": [
      "6/6 [==============================] - 1s 3ms/step\n",
      "Nilai RMSE:  12.04560769146458\n"
     ]
    }
   ],
   "source": [
    "# menghitung nilai rmse menggunakan  model h5\n",
    "model_h5 = tf.keras.models.load_model('model5.h5')\n",
    "y_pred_h5 = model_h5.predict(x_test)\n",
    "x_test = x_test.reshape(x_test.shape[0],x_test.shape[2]*x_test.shape[1])\n",
    "\n",
    "inv_new = np.concatenate( (y_pred_h5, x_test[:,-4:] ) ,axis = 1)\n",
    "inv_new = scaler.inverse_transform(inv_new)\n",
    "final_pred_h5 = inv_new[:,0]\n",
    "\n",
    "mse_h5 = mean_squared_error(actual_pred, final_pred_h5)\n",
    "rmse_h5 = np.sqrt(mse_h5)\n",
    "\n",
    "print(\"Nilai RMSE: \", rmse_h5)"
   ]
  }
 ],
 "metadata": {
  "kernelspec": {
   "display_name": "Python 3",
   "language": "python",
   "name": "python3"
  },
  "language_info": {
   "codemirror_mode": {
    "name": "ipython",
    "version": 3
   },
   "file_extension": ".py",
   "mimetype": "text/x-python",
   "name": "python",
   "nbconvert_exporter": "python",
   "pygments_lexer": "ipython3",
   "version": "3.8.7"
  },
  "orig_nbformat": 4
 },
 "nbformat": 4,
 "nbformat_minor": 2
}
